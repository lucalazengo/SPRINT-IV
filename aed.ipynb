{
 "cells": [
  {
   "cell_type": "code",
   "execution_count": 17,
   "id": "36611e7d",
   "metadata": {},
   "outputs": [],
   "source": [
    "import pandas as pd"
   ]
  },
  {
   "cell_type": "code",
   "execution_count": 18,
   "id": "b01cb1f5",
   "metadata": {},
   "outputs": [
    {
     "name": "stdout",
     "output_type": "stream",
     "text": [
      "<class 'pandas.core.frame.DataFrame'>\n",
      "RangeIndex: 1712 entries, 0 to 1711\n",
      "Data columns (total 23 columns):\n",
      " #   Column                    Non-Null Count  Dtype  \n",
      "---  ------                    --------------  -----  \n",
      " 0   Arquivo                   1712 non-null   object \n",
      " 1   ID                        1709 non-null   float64\n",
      " 2   Data de Conclusão         1709 non-null   object \n",
      " 3   Paciente Idade            1709 non-null   float64\n",
      " 4   Sexo                      1709 non-null   object \n",
      " 5   Cidade                    1709 non-null   object \n",
      " 6   Órgão Julgador            1709 non-null   object \n",
      " 7   Serventia                 1709 non-null   object \n",
      " 8   CID                       1709 non-null   object \n",
      " 9   Diagnóstico               1709 non-null   object \n",
      " 10  Tipo da Tecnologia        1709 non-null   object \n",
      " 11  Princípio Ativo           795 non-null    object \n",
      " 12  Posologia                 795 non-null    object \n",
      " 13  Descrição                 929 non-null    object \n",
      " 14  Procedimento SUS          766 non-null    object \n",
      " 15  Evidências Científicas    1709 non-null   object \n",
      " 16  Nome Comercial            795 non-null    object \n",
      " 17  Tecnologia Disponível     1709 non-null   object \n",
      " 18  Custo da Tecnologia       927 non-null    object \n",
      " 19  Conclusão Justificada     1709 non-null   object \n",
      " 20  Conclusão                 1709 non-null   object \n",
      " 21  NatJus Responsável        1709 non-null   object \n",
      " 22  Instituição Responsável:  1709 non-null   object \n",
      "dtypes: float64(2), object(21)\n",
      "memory usage: 307.8+ KB\n"
     ]
    }
   ],
   "source": [
    "\n",
    "data = pd.read_csv('web_natjus_consolidado.csv')\n",
    "\n",
    "data.info(2)"
   ]
  }
 ],
 "metadata": {
  "kernelspec": {
   "display_name": ".venv",
   "language": "python",
   "name": "python3"
  },
  "language_info": {
   "codemirror_mode": {
    "name": "ipython",
    "version": 3
   },
   "file_extension": ".py",
   "mimetype": "text/x-python",
   "name": "python",
   "nbconvert_exporter": "python",
   "pygments_lexer": "ipython3",
   "version": "3.12.7"
  }
 },
 "nbformat": 4,
 "nbformat_minor": 5
}
