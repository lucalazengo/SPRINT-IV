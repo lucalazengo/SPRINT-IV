{
 "cells": [
  {
   "cell_type": "code",
   "execution_count": 79,
   "id": "b999c81e",
   "metadata": {},
   "outputs": [],
   "source": [
    "import pandas as pd"
   ]
  },
  {
   "cell_type": "code",
   "execution_count": 80,
   "id": "2f1804c1",
   "metadata": {},
   "outputs": [],
   "source": [
    "data_1 = pd.read_csv('web_natjus_consolidado.csv')\n",
    "\n",
    "\n",
    "data_2 = pd.read_csv('notas_tecnicas_goias.csv')"
   ]
  },
  {
   "cell_type": "code",
   "execution_count": 81,
   "id": "c71b4275",
   "metadata": {},
   "outputs": [
    {
     "data": {
      "text/plain": [
       "Index(['Arquivo', 'ID', 'Data de Conclusão', 'Idade', 'Sexo', 'Cidade',\n",
       "       'Órgão', 'Serventia', 'CID', 'Diagnóstico', 'Tipo da Tecnologia',\n",
       "       'Princípio Ativo', 'Posologia', 'Descrição', 'Procedimento SUS',\n",
       "       'Evidências Científicas', 'Nome Comercial', 'Tecnologia Disponível',\n",
       "       'Custo da Tecnologia', 'Conclusão Justificada', 'Conclusão',\n",
       "       'NatJus Responsável', 'Instituição Responsável:'],\n",
       "      dtype='object')"
      ]
     },
     "execution_count": 81,
     "metadata": {},
     "output_type": "execute_result"
    }
   ],
   "source": [
    "data_1.columns"
   ]
  },
  {
   "cell_type": "code",
   "execution_count": 82,
   "id": "7cf8cdbe",
   "metadata": {},
   "outputs": [
    {
     "data": {
      "text/plain": [
       "Index(['ID', 'Data', 'Tecnologia', 'CID', 'NatJus Responsável', 'Status',\n",
       "       'Link Visualização', 'Link Download'],\n",
       "      dtype='object')"
      ]
     },
     "execution_count": 82,
     "metadata": {},
     "output_type": "execute_result"
    }
   ],
   "source": [
    "data_2.columns"
   ]
  },
  {
   "cell_type": "code",
   "execution_count": null,
   "id": "da6e7cb2",
   "metadata": {},
   "outputs": [],
   "source": []
  },
  {
   "cell_type": "code",
   "execution_count": 83,
   "id": "83dcbbe9",
   "metadata": {},
   "outputs": [
    {
     "data": {
      "application/vnd.microsoft.datawrangler.viewer.v0+json": {
       "columns": [
        {
         "name": "index",
         "rawType": "int64",
         "type": "integer"
        },
        {
         "name": "Arquivo",
         "rawType": "object",
         "type": "string"
        },
        {
         "name": "ID",
         "rawType": "float64",
         "type": "float"
        },
        {
         "name": "Data de Conclusão",
         "rawType": "object",
         "type": "string"
        },
        {
         "name": "Idade",
         "rawType": "float64",
         "type": "float"
        },
        {
         "name": "Sexo",
         "rawType": "object",
         "type": "string"
        },
        {
         "name": "Cidade",
         "rawType": "object",
         "type": "string"
        },
        {
         "name": "Órgão",
         "rawType": "object",
         "type": "string"
        },
        {
         "name": "Serventia",
         "rawType": "object",
         "type": "string"
        },
        {
         "name": "CID",
         "rawType": "object",
         "type": "string"
        },
        {
         "name": "Diagnóstico",
         "rawType": "object",
         "type": "string"
        },
        {
         "name": "Tipo da Tecnologia",
         "rawType": "object",
         "type": "string"
        },
        {
         "name": "Princípio Ativo",
         "rawType": "object",
         "type": "unknown"
        },
        {
         "name": "Posologia",
         "rawType": "object",
         "type": "unknown"
        },
        {
         "name": "Descrição",
         "rawType": "object",
         "type": "unknown"
        },
        {
         "name": "Procedimento SUS",
         "rawType": "object",
         "type": "unknown"
        },
        {
         "name": "Evidências Científicas",
         "rawType": "object",
         "type": "string"
        },
        {
         "name": "Nome Comercial",
         "rawType": "object",
         "type": "unknown"
        },
        {
         "name": "Tecnologia Disponível",
         "rawType": "object",
         "type": "string"
        },
        {
         "name": "Custo da Tecnologia",
         "rawType": "object",
         "type": "unknown"
        },
        {
         "name": "Conclusão Justificada",
         "rawType": "object",
         "type": "string"
        },
        {
         "name": "Conclusão",
         "rawType": "object",
         "type": "string"
        },
        {
         "name": "NatJus Responsável",
         "rawType": "object",
         "type": "string"
        },
        {
         "name": "Instituição Responsável:",
         "rawType": "object",
         "type": "string"
        },
        {
         "name": "Link Visualização",
         "rawType": "object",
         "type": "string"
        },
        {
         "name": "Link Download",
         "rawType": "object",
         "type": "string"
        }
       ],
       "conversionMethod": "pd.DataFrame",
       "ref": "b0adb28e-8b56-4157-93cb-a224a0a0dc81",
       "rows": [
        [
         "0",
         "104687.pdf",
         "104687.0",
         "10/11/2022 08:51:08",
         "82.0",
         "Feminino",
         "Urutaí",
         "Justiça Estadual",
         "1ª Vara Cível - Pires do Rio",
         "G30 - Doença de Alzheimer",
         "Doença de Alzheimer; Fratura do fêmur (CID10 S72).",
         "Procedimento",
         null,
         null,
         "Serviço de Home Care Atenção Domiciliar (cuidado multiprofissional).",
         "Sim",
         "Não",
         null,
         "Procedimento",
         "-",
         "Favorável",
         "1. Trata-se de demanda judicial envolvendo a requerente, portadora de Alzheimer",
         "GO - Goiás",
         "Tribunal de Justiça do Estado de Goiás (TJ/GO).",
         "https://www.pje.jus.br/e-natjus/notaTecnica-dados.php?idNotaTecnica=104687",
         "https://www.pje.jus.br/e-natjus/notaTecnica-dados.php?output=pdf&token=nt:104687:1746821527:3a0449a0b4049c299a31c35ec60b9e12ca623aa542b6389965db6ab1646adc6e"
        ],
        [
         "1",
         "118160.pdf",
         "118160.0",
         "20/02/2023 09:01:09",
         "12.0",
         "Masculino",
         "Goiânia",
         "Justiça Estadual",
         "Juizado da Infância e Juventude Cível - Goiânia",
         "E34.3 - Nanismo, não classificado em outra parte",
         "Baixa Estatura Idiopática.",
         "Medicamento",
         "SOMATROPINA",
         "1) Prescrição Médica, sem data: Somatropina 12UI - aplicar SC 2.64 ui à noite",
         null,
         null,
         "Sim",
         "HORMOTROP",
         "Medicamento",
         null,
         "Favorável",
         "testes provocativos normais não afastam o diagnóstico de",
         "GO - Goiás",
         "Tribunal de Justiça do Estado de Goiás (TJ/GO).",
         "https://www.pje.jus.br/e-natjus/notaTecnica-dados.php?idNotaTecnica=118160",
         "https://www.pje.jus.br/e-natjus/notaTecnica-dados.php?output=pdf&token=nt:118160:1746821531:67bb72589ffc1960faf7ef2a79a2acfabb922489193a87026f8d76d26432d4c4"
        ],
        [
         "2",
         "64195.pdf",
         "64195.0",
         "15/02/2022 10:40:51",
         "33.0",
         "Feminino",
         "Goiânia",
         "Justiça Estadual",
         "5ª Câmara Cível / TJ GO",
         "M32.1 - Lúpus eritematoso disseminado [sistêmico] com comprometimento de outros",
         "LUPUS ERITEMATOSO SISTEMICO",
         "Medicamento",
         "BELIMUMABE",
         "Prescrição Médica - Belimumabe 120 mg, na quantidade 15 frascos, na posologia",
         null,
         null,
         "Sim",
         "BENLYSTA",
         "Medicamento",
         null,
         "Favorável",
         "O tratamento farmacológico do lúpus eritematoso sistêmico (LES) tem como",
         "GO - Goiás",
         "TJ GO",
         "https://www.pje.jus.br/e-natjus/notaTecnica-dados.php?idNotaTecnica=64195",
         "https://www.pje.jus.br/e-natjus/notaTecnica-dados.php?output=pdf&token=nt:64195:1746821455:8cb4c7d9682df26ce826847ccb6b408aa6cd134dd0082e9b0a8b3065c9a813d9"
        ],
        [
         "3",
         "89639.pdf",
         "89639.0",
         "11/08/2022 17:02:39",
         "88.0",
         "Masculino",
         "Sertânia",
         "Justiça Estadual",
         "2ª Vara Cível - Rio Verde",
         "G30 - Doença de Alzheimer",
         "Doença de Alzheimer.",
         "Procedimento",
         null,
         null,
         "Serviço de home care com equipe multiprofissional e assistência com técnico de",
         "Sim",
         "Não",
         null,
         "Procedimento",
         "-",
         "Favorável",
         "1. Trata-se de demanda judicial envolvendo o requerente e a Unimed, para custeio do",
         "GO - Goiás",
         "Tribunal de Justiça do Estado de Goiás (TJ/GO).",
         "https://www.pje.jus.br/e-natjus/notaTecnica-dados.php?idNotaTecnica=89639",
         "https://www.pje.jus.br/e-natjus/notaTecnica-dados.php?output=pdf&token=nt:89639:1746821476:4f7ce86f874840ec8d10237a54c6917afa5c4497c9c01e643a907d24cffeca7f"
        ],
        [
         "4",
         "96610.pdf",
         "96610.0",
         "22/09/2022 12:05:51",
         "3.0",
         "Masculino",
         "Jussara",
         "Justiça Estadual",
         "Vara das Fazendas Públicas - Jussara",
         "R63.8 - Outros sintomas e sinais relativos a ingestão de alimentos e de líquidos",
         "Proctocolite, APLV.",
         "Produto",
         null,
         null,
         "Fórm. Inf. P/ Lactentes e de Seguim. P/ Lactentes e Crianças de Prim. Inf. Dest. a",
         null,
         "Não se aplica",
         null,
         "Produto",
         "1. Por se tratarem de fórmulas alimentares, as mesmas não possuem preços registrados",
         "Favorável",
         "1. A documentação médica apresentada, permite perceber que o lactente em questão",
         "GO - Goiás",
         "Tribunal de Justiça do Estado de Goiás (TJ/GO).",
         "https://www.pje.jus.br/e-natjus/notaTecnica-dados.php?idNotaTecnica=96610",
         "https://www.pje.jus.br/e-natjus/notaTecnica-dados.php?output=pdf&token=nt:96610:1746821422:a7c33207e79e90ba5531037155695e20b052a2edaa0103b026b66005576c0331"
        ]
       ],
       "shape": {
        "columns": 25,
        "rows": 5
       }
      },
      "text/html": [
       "<div>\n",
       "<style scoped>\n",
       "    .dataframe tbody tr th:only-of-type {\n",
       "        vertical-align: middle;\n",
       "    }\n",
       "\n",
       "    .dataframe tbody tr th {\n",
       "        vertical-align: top;\n",
       "    }\n",
       "\n",
       "    .dataframe thead th {\n",
       "        text-align: right;\n",
       "    }\n",
       "</style>\n",
       "<table border=\"1\" class=\"dataframe\">\n",
       "  <thead>\n",
       "    <tr style=\"text-align: right;\">\n",
       "      <th></th>\n",
       "      <th>Arquivo</th>\n",
       "      <th>ID</th>\n",
       "      <th>Data de Conclusão</th>\n",
       "      <th>Idade</th>\n",
       "      <th>Sexo</th>\n",
       "      <th>Cidade</th>\n",
       "      <th>Órgão</th>\n",
       "      <th>Serventia</th>\n",
       "      <th>CID</th>\n",
       "      <th>Diagnóstico</th>\n",
       "      <th>...</th>\n",
       "      <th>Evidências Científicas</th>\n",
       "      <th>Nome Comercial</th>\n",
       "      <th>Tecnologia Disponível</th>\n",
       "      <th>Custo da Tecnologia</th>\n",
       "      <th>Conclusão Justificada</th>\n",
       "      <th>Conclusão</th>\n",
       "      <th>NatJus Responsável</th>\n",
       "      <th>Instituição Responsável:</th>\n",
       "      <th>Link Visualização</th>\n",
       "      <th>Link Download</th>\n",
       "    </tr>\n",
       "  </thead>\n",
       "  <tbody>\n",
       "    <tr>\n",
       "      <th>0</th>\n",
       "      <td>104687.pdf</td>\n",
       "      <td>104687.0</td>\n",
       "      <td>10/11/2022 08:51:08</td>\n",
       "      <td>82.0</td>\n",
       "      <td>Feminino</td>\n",
       "      <td>Urutaí</td>\n",
       "      <td>Justiça Estadual</td>\n",
       "      <td>1ª Vara Cível - Pires do Rio</td>\n",
       "      <td>G30 - Doença de Alzheimer</td>\n",
       "      <td>Doença de Alzheimer; Fratura do fêmur (CID10 S...</td>\n",
       "      <td>...</td>\n",
       "      <td>Não</td>\n",
       "      <td>NaN</td>\n",
       "      <td>Procedimento</td>\n",
       "      <td>-</td>\n",
       "      <td>Favorável</td>\n",
       "      <td>1. Trata-se de demanda judicial envolvendo a r...</td>\n",
       "      <td>GO - Goiás</td>\n",
       "      <td>Tribunal de Justiça do Estado de Goiás (TJ/GO).</td>\n",
       "      <td>https://www.pje.jus.br/e-natjus/notaTecnica-da...</td>\n",
       "      <td>https://www.pje.jus.br/e-natjus/notaTecnica-da...</td>\n",
       "    </tr>\n",
       "    <tr>\n",
       "      <th>1</th>\n",
       "      <td>118160.pdf</td>\n",
       "      <td>118160.0</td>\n",
       "      <td>20/02/2023 09:01:09</td>\n",
       "      <td>12.0</td>\n",
       "      <td>Masculino</td>\n",
       "      <td>Goiânia</td>\n",
       "      <td>Justiça Estadual</td>\n",
       "      <td>Juizado da Infância e Juventude Cível - Goiânia</td>\n",
       "      <td>E34.3 - Nanismo, não classificado em outra parte</td>\n",
       "      <td>Baixa Estatura Idiopática.</td>\n",
       "      <td>...</td>\n",
       "      <td>Sim</td>\n",
       "      <td>HORMOTROP</td>\n",
       "      <td>Medicamento</td>\n",
       "      <td>NaN</td>\n",
       "      <td>Favorável</td>\n",
       "      <td>testes provocativos normais não afastam o diag...</td>\n",
       "      <td>GO - Goiás</td>\n",
       "      <td>Tribunal de Justiça do Estado de Goiás (TJ/GO).</td>\n",
       "      <td>https://www.pje.jus.br/e-natjus/notaTecnica-da...</td>\n",
       "      <td>https://www.pje.jus.br/e-natjus/notaTecnica-da...</td>\n",
       "    </tr>\n",
       "    <tr>\n",
       "      <th>2</th>\n",
       "      <td>64195.pdf</td>\n",
       "      <td>64195.0</td>\n",
       "      <td>15/02/2022 10:40:51</td>\n",
       "      <td>33.0</td>\n",
       "      <td>Feminino</td>\n",
       "      <td>Goiânia</td>\n",
       "      <td>Justiça Estadual</td>\n",
       "      <td>5ª Câmara Cível / TJ GO</td>\n",
       "      <td>M32.1 - Lúpus eritematoso disseminado [sistêmi...</td>\n",
       "      <td>LUPUS ERITEMATOSO SISTEMICO</td>\n",
       "      <td>...</td>\n",
       "      <td>Sim</td>\n",
       "      <td>BENLYSTA</td>\n",
       "      <td>Medicamento</td>\n",
       "      <td>NaN</td>\n",
       "      <td>Favorável</td>\n",
       "      <td>O tratamento farmacológico do lúpus eritematos...</td>\n",
       "      <td>GO - Goiás</td>\n",
       "      <td>TJ GO</td>\n",
       "      <td>https://www.pje.jus.br/e-natjus/notaTecnica-da...</td>\n",
       "      <td>https://www.pje.jus.br/e-natjus/notaTecnica-da...</td>\n",
       "    </tr>\n",
       "    <tr>\n",
       "      <th>3</th>\n",
       "      <td>89639.pdf</td>\n",
       "      <td>89639.0</td>\n",
       "      <td>11/08/2022 17:02:39</td>\n",
       "      <td>88.0</td>\n",
       "      <td>Masculino</td>\n",
       "      <td>Sertânia</td>\n",
       "      <td>Justiça Estadual</td>\n",
       "      <td>2ª Vara Cível - Rio Verde</td>\n",
       "      <td>G30 - Doença de Alzheimer</td>\n",
       "      <td>Doença de Alzheimer.</td>\n",
       "      <td>...</td>\n",
       "      <td>Não</td>\n",
       "      <td>NaN</td>\n",
       "      <td>Procedimento</td>\n",
       "      <td>-</td>\n",
       "      <td>Favorável</td>\n",
       "      <td>1. Trata-se de demanda judicial envolvendo o r...</td>\n",
       "      <td>GO - Goiás</td>\n",
       "      <td>Tribunal de Justiça do Estado de Goiás (TJ/GO).</td>\n",
       "      <td>https://www.pje.jus.br/e-natjus/notaTecnica-da...</td>\n",
       "      <td>https://www.pje.jus.br/e-natjus/notaTecnica-da...</td>\n",
       "    </tr>\n",
       "    <tr>\n",
       "      <th>4</th>\n",
       "      <td>96610.pdf</td>\n",
       "      <td>96610.0</td>\n",
       "      <td>22/09/2022 12:05:51</td>\n",
       "      <td>3.0</td>\n",
       "      <td>Masculino</td>\n",
       "      <td>Jussara</td>\n",
       "      <td>Justiça Estadual</td>\n",
       "      <td>Vara das Fazendas Públicas - Jussara</td>\n",
       "      <td>R63.8 - Outros sintomas e sinais relativos a i...</td>\n",
       "      <td>Proctocolite, APLV.</td>\n",
       "      <td>...</td>\n",
       "      <td>Não se aplica</td>\n",
       "      <td>NaN</td>\n",
       "      <td>Produto</td>\n",
       "      <td>1. Por se tratarem de fórmulas alimentares, as...</td>\n",
       "      <td>Favorável</td>\n",
       "      <td>1. A documentação médica apresentada, permite ...</td>\n",
       "      <td>GO - Goiás</td>\n",
       "      <td>Tribunal de Justiça do Estado de Goiás (TJ/GO).</td>\n",
       "      <td>https://www.pje.jus.br/e-natjus/notaTecnica-da...</td>\n",
       "      <td>https://www.pje.jus.br/e-natjus/notaTecnica-da...</td>\n",
       "    </tr>\n",
       "  </tbody>\n",
       "</table>\n",
       "<p>5 rows × 25 columns</p>\n",
       "</div>"
      ],
      "text/plain": [
       "      Arquivo        ID    Data de Conclusão  Idade       Sexo    Cidade  \\\n",
       "0  104687.pdf  104687.0  10/11/2022 08:51:08   82.0   Feminino    Urutaí   \n",
       "1  118160.pdf  118160.0  20/02/2023 09:01:09   12.0  Masculino   Goiânia   \n",
       "2   64195.pdf   64195.0  15/02/2022 10:40:51   33.0   Feminino   Goiânia   \n",
       "3   89639.pdf   89639.0  11/08/2022 17:02:39   88.0  Masculino  Sertânia   \n",
       "4   96610.pdf   96610.0  22/09/2022 12:05:51    3.0  Masculino   Jussara   \n",
       "\n",
       "              Órgão                                        Serventia  \\\n",
       "0  Justiça Estadual                     1ª Vara Cível - Pires do Rio   \n",
       "1  Justiça Estadual  Juizado da Infância e Juventude Cível - Goiânia   \n",
       "2  Justiça Estadual                          5ª Câmara Cível / TJ GO   \n",
       "3  Justiça Estadual                        2ª Vara Cível - Rio Verde   \n",
       "4  Justiça Estadual             Vara das Fazendas Públicas - Jussara   \n",
       "\n",
       "                                                 CID  \\\n",
       "0                          G30 - Doença de Alzheimer   \n",
       "1   E34.3 - Nanismo, não classificado em outra parte   \n",
       "2  M32.1 - Lúpus eritematoso disseminado [sistêmi...   \n",
       "3                          G30 - Doença de Alzheimer   \n",
       "4  R63.8 - Outros sintomas e sinais relativos a i...   \n",
       "\n",
       "                                         Diagnóstico  ...  \\\n",
       "0  Doença de Alzheimer; Fratura do fêmur (CID10 S...  ...   \n",
       "1                         Baixa Estatura Idiopática.  ...   \n",
       "2                        LUPUS ERITEMATOSO SISTEMICO  ...   \n",
       "3                               Doença de Alzheimer.  ...   \n",
       "4                                Proctocolite, APLV.  ...   \n",
       "\n",
       "  Evidências Científicas Nome Comercial Tecnologia Disponível  \\\n",
       "0                    Não            NaN          Procedimento   \n",
       "1                    Sim      HORMOTROP           Medicamento   \n",
       "2                    Sim       BENLYSTA           Medicamento   \n",
       "3                    Não            NaN          Procedimento   \n",
       "4          Não se aplica            NaN               Produto   \n",
       "\n",
       "                                 Custo da Tecnologia Conclusão Justificada  \\\n",
       "0                                                  -             Favorável   \n",
       "1                                                NaN             Favorável   \n",
       "2                                                NaN             Favorável   \n",
       "3                                                  -             Favorável   \n",
       "4  1. Por se tratarem de fórmulas alimentares, as...             Favorável   \n",
       "\n",
       "                                           Conclusão NatJus Responsável  \\\n",
       "0  1. Trata-se de demanda judicial envolvendo a r...         GO - Goiás   \n",
       "1  testes provocativos normais não afastam o diag...         GO - Goiás   \n",
       "2  O tratamento farmacológico do lúpus eritematos...         GO - Goiás   \n",
       "3  1. Trata-se de demanda judicial envolvendo o r...         GO - Goiás   \n",
       "4  1. A documentação médica apresentada, permite ...         GO - Goiás   \n",
       "\n",
       "                          Instituição Responsável:  \\\n",
       "0  Tribunal de Justiça do Estado de Goiás (TJ/GO).   \n",
       "1  Tribunal de Justiça do Estado de Goiás (TJ/GO).   \n",
       "2                                            TJ GO   \n",
       "3  Tribunal de Justiça do Estado de Goiás (TJ/GO).   \n",
       "4  Tribunal de Justiça do Estado de Goiás (TJ/GO).   \n",
       "\n",
       "                                   Link Visualização  \\\n",
       "0  https://www.pje.jus.br/e-natjus/notaTecnica-da...   \n",
       "1  https://www.pje.jus.br/e-natjus/notaTecnica-da...   \n",
       "2  https://www.pje.jus.br/e-natjus/notaTecnica-da...   \n",
       "3  https://www.pje.jus.br/e-natjus/notaTecnica-da...   \n",
       "4  https://www.pje.jus.br/e-natjus/notaTecnica-da...   \n",
       "\n",
       "                                       Link Download  \n",
       "0  https://www.pje.jus.br/e-natjus/notaTecnica-da...  \n",
       "1  https://www.pje.jus.br/e-natjus/notaTecnica-da...  \n",
       "2  https://www.pje.jus.br/e-natjus/notaTecnica-da...  \n",
       "3  https://www.pje.jus.br/e-natjus/notaTecnica-da...  \n",
       "4  https://www.pje.jus.br/e-natjus/notaTecnica-da...  \n",
       "\n",
       "[5 rows x 25 columns]"
      ]
     },
     "execution_count": 83,
     "metadata": {},
     "output_type": "execute_result"
    }
   ],
   "source": [
    "# Realizar o merge entre data_1 e data_2 com base na chave 'ID'\n",
    "dsc = pd.merge(data_1, data_2[['ID', 'Link Visualização', 'Link Download']], on='ID', how='inner')\n",
    "\n",
    "# Exibir o resultado\n",
    "dsc.head()"
   ]
  },
  {
   "cell_type": "code",
   "execution_count": 84,
   "id": "2b5615ba",
   "metadata": {},
   "outputs": [
    {
     "name": "stdout",
     "output_type": "stream",
     "text": [
      "Linhas em data_1: 1712\n",
      "Linhas em data_2: 1712\n",
      "Linhas em merged_data: 1708\n",
      "Valores nulos na coluna 'ID' em merged_data: 0\n"
     ]
    }
   ],
   "source": [
    "# Verificar o número de linhas antes e depois do merge\n",
    "print(f\"Linhas em data_1: {len(data_1)}\")\n",
    "print(f\"Linhas em data_2: {len(data_2)}\")\n",
    "print(f\"Linhas em merged_data: {len(dsc)}\")\n",
    "\n",
    "# Verificar se há valores nulos na coluna de chave após o merge\n",
    "print(f\"Valores nulos na coluna 'ID' em merged_data: {dsc['ID'].isnull().sum()}\")"
   ]
  },
  {
   "cell_type": "code",
   "execution_count": 85,
   "id": "590928a0",
   "metadata": {},
   "outputs": [],
   "source": [
    "# Converter todas as colunas numéricas para inteiro\n",
    "data_1 = data_1.apply(lambda col: col.astype('Int64') if col.dtype == 'float64' else col)\n",
    "data_2 = data_2.apply(lambda col: col.astype('Int64') if col.dtype == 'float64' else col)\n",
    "dsc = dsc.apply(lambda col: col.astype('Int64') if col.dtype == 'float64' else col)\n",
    "\n",
    "# Remover a coluna 'Arquivo'\n",
    "data_1 = data_1.drop(columns=['Arquivo'])\n",
    "dsc = dsc.drop(columns=['Arquivo'])"
   ]
  },
  {
   "cell_type": "code",
   "execution_count": 86,
   "id": "02b9c694",
   "metadata": {},
   "outputs": [
    {
     "data": {
      "text/plain": [
       "Index(['ID', 'Data de Conclusão', 'Idade', 'Sexo', 'Cidade', 'Órgão',\n",
       "       'Serventia', 'CID', 'Diagnóstico', 'Tipo da Tecnologia',\n",
       "       'Princípio Ativo', 'Posologia', 'Descrição', 'Procedimento SUS',\n",
       "       'Evidências Científicas', 'Nome Comercial', 'Tecnologia Disponível',\n",
       "       'Custo da Tecnologia', 'Conclusão Justificada', 'Conclusão',\n",
       "       'NatJus Responsável', 'Instituição Responsável:', 'Link Visualização',\n",
       "       'Link Download'],\n",
       "      dtype='object')"
      ]
     },
     "execution_count": 86,
     "metadata": {},
     "output_type": "execute_result"
    }
   ],
   "source": [
    "dsc.columns"
   ]
  },
  {
   "cell_type": "code",
   "execution_count": 87,
   "id": "0de2b49a",
   "metadata": {},
   "outputs": [
    {
     "data": {
      "application/vnd.microsoft.datawrangler.viewer.v0+json": {
       "columns": [
        {
         "name": "index",
         "rawType": "int64",
         "type": "integer"
        },
        {
         "name": "Data de Conclusão",
         "rawType": "object",
         "type": "unknown"
        },
        {
         "name": "Mes",
         "rawType": "object",
         "type": "string"
        }
       ],
       "conversionMethod": "pd.DataFrame",
       "ref": "eab68d9a-d079-4d78-97de-64ff11757e11",
       "rows": [
        [
         "0",
         "2022-11-10",
         "novembro"
        ],
        [
         "1",
         "2023-02-20",
         "fevereiro"
        ],
        [
         "2",
         "2022-02-15",
         "fevereiro"
        ],
        [
         "3",
         "2022-08-11",
         "agosto"
        ],
        [
         "4",
         "2022-09-22",
         "setembro"
        ]
       ],
       "shape": {
        "columns": 2,
        "rows": 5
       }
      },
      "text/html": [
       "<div>\n",
       "<style scoped>\n",
       "    .dataframe tbody tr th:only-of-type {\n",
       "        vertical-align: middle;\n",
       "    }\n",
       "\n",
       "    .dataframe tbody tr th {\n",
       "        vertical-align: top;\n",
       "    }\n",
       "\n",
       "    .dataframe thead th {\n",
       "        text-align: right;\n",
       "    }\n",
       "</style>\n",
       "<table border=\"1\" class=\"dataframe\">\n",
       "  <thead>\n",
       "    <tr style=\"text-align: right;\">\n",
       "      <th></th>\n",
       "      <th>Data de Conclusão</th>\n",
       "      <th>Mes</th>\n",
       "    </tr>\n",
       "  </thead>\n",
       "  <tbody>\n",
       "    <tr>\n",
       "      <th>0</th>\n",
       "      <td>2022-11-10</td>\n",
       "      <td>novembro</td>\n",
       "    </tr>\n",
       "    <tr>\n",
       "      <th>1</th>\n",
       "      <td>2023-02-20</td>\n",
       "      <td>fevereiro</td>\n",
       "    </tr>\n",
       "    <tr>\n",
       "      <th>2</th>\n",
       "      <td>2022-02-15</td>\n",
       "      <td>fevereiro</td>\n",
       "    </tr>\n",
       "    <tr>\n",
       "      <th>3</th>\n",
       "      <td>2022-08-11</td>\n",
       "      <td>agosto</td>\n",
       "    </tr>\n",
       "    <tr>\n",
       "      <th>4</th>\n",
       "      <td>2022-09-22</td>\n",
       "      <td>setembro</td>\n",
       "    </tr>\n",
       "  </tbody>\n",
       "</table>\n",
       "</div>"
      ],
      "text/plain": [
       "  Data de Conclusão        Mes\n",
       "0        2022-11-10   novembro\n",
       "1        2023-02-20  fevereiro\n",
       "2        2022-02-15  fevereiro\n",
       "3        2022-08-11     agosto\n",
       "4        2022-09-22   setembro"
      ]
     },
     "execution_count": 87,
     "metadata": {},
     "output_type": "execute_result"
    }
   ],
   "source": [
    "# Converter a coluna para datetime com o formato correto (dd/mm/yyyy)\n",
    "dsc['Data de Conclusão'] = pd.to_datetime(dsc['Data de Conclusão'], format='%d/%m/%Y %H:%M:%S')\n",
    "\n",
    "# Remover as horas, mantendo apenas a data\n",
    "dsc['Data de Conclusão'] = dsc['Data de Conclusão'].dt.date\n",
    "\n",
    "# Extrair o mês\n",
    "dsc['Mes'] = pd.to_datetime(dsc['Data de Conclusão']).dt.strftime('%B')\n",
    "\n",
    "# Exibir resultado\n",
    "dsc[['Data de Conclusão', 'Mes']].head()"
   ]
  },
  {
   "cell_type": "code",
   "execution_count": null,
   "id": "c901299d",
   "metadata": {},
   "outputs": [],
   "source": []
  },
  {
   "cell_type": "code",
   "execution_count": 88,
   "id": "ccea530d",
   "metadata": {},
   "outputs": [],
   "source": [
    "# Dataset filtrado por produto\n",
    "dsc.to_csv('DATASET FINAL.csv', index=False, encoding='utf-8-sig')"
   ]
  }
 ],
 "metadata": {
  "kernelspec": {
   "display_name": ".venv",
   "language": "python",
   "name": "python3"
  },
  "language_info": {
   "codemirror_mode": {
    "name": "ipython",
    "version": 3
   },
   "file_extension": ".py",
   "mimetype": "text/x-python",
   "name": "python",
   "nbconvert_exporter": "python",
   "pygments_lexer": "ipython3",
   "version": "3.12.3"
  }
 },
 "nbformat": 4,
 "nbformat_minor": 5
}
