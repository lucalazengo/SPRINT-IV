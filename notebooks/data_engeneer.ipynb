{
 "cells": [
  {
   "cell_type": "code",
   "execution_count": 5,
   "id": "b999c81e",
   "metadata": {},
   "outputs": [],
   "source": [
    "import pandas as pd\n",
    "from sentence_transformers import SentenceTransformer\n",
    "import pandas as pd\n",
    "import numpy as np\n",
    "import pickle"
   ]
  },
  {
   "cell_type": "code",
   "execution_count": 44,
   "id": "2f1804c1",
   "metadata": {},
   "outputs": [
    {
     "ename": "FileNotFoundError",
     "evalue": "[Errno 2] No such file or directory: 'notas_tecnicas_goias.csv'",
     "output_type": "error",
     "traceback": [
      "\u001b[31m---------------------------------------------------------------------------\u001b[39m",
      "\u001b[31mFileNotFoundError\u001b[39m                         Traceback (most recent call last)",
      "\u001b[36mCell\u001b[39m\u001b[36m \u001b[39m\u001b[32mIn[44]\u001b[39m\u001b[32m, line 4\u001b[39m\n\u001b[32m      1\u001b[39m data_1 = pd.read_csv(\u001b[33m'\u001b[39m\u001b[33mweb_natjus_consolidado.csv\u001b[39m\u001b[33m'\u001b[39m)\n\u001b[32m----> \u001b[39m\u001b[32m4\u001b[39m data_2 = \u001b[43mpd\u001b[49m\u001b[43m.\u001b[49m\u001b[43mread_csv\u001b[49m\u001b[43m(\u001b[49m\u001b[33;43m'\u001b[39;49m\u001b[33;43mnotas_tecnicas_goias.csv\u001b[39;49m\u001b[33;43m'\u001b[39;49m\u001b[43m)\u001b[49m\n",
      "\u001b[36mFile \u001b[39m\u001b[32mc:\\Users\\mlzengo\\Documents\\TJGO\\SPRINT IV\\.venv\\Lib\\site-packages\\pandas\\io\\parsers\\readers.py:1026\u001b[39m, in \u001b[36mread_csv\u001b[39m\u001b[34m(filepath_or_buffer, sep, delimiter, header, names, index_col, usecols, dtype, engine, converters, true_values, false_values, skipinitialspace, skiprows, skipfooter, nrows, na_values, keep_default_na, na_filter, verbose, skip_blank_lines, parse_dates, infer_datetime_format, keep_date_col, date_parser, date_format, dayfirst, cache_dates, iterator, chunksize, compression, thousands, decimal, lineterminator, quotechar, quoting, doublequote, escapechar, comment, encoding, encoding_errors, dialect, on_bad_lines, delim_whitespace, low_memory, memory_map, float_precision, storage_options, dtype_backend)\u001b[39m\n\u001b[32m   1013\u001b[39m kwds_defaults = _refine_defaults_read(\n\u001b[32m   1014\u001b[39m     dialect,\n\u001b[32m   1015\u001b[39m     delimiter,\n\u001b[32m   (...)\u001b[39m\u001b[32m   1022\u001b[39m     dtype_backend=dtype_backend,\n\u001b[32m   1023\u001b[39m )\n\u001b[32m   1024\u001b[39m kwds.update(kwds_defaults)\n\u001b[32m-> \u001b[39m\u001b[32m1026\u001b[39m \u001b[38;5;28;01mreturn\u001b[39;00m \u001b[43m_read\u001b[49m\u001b[43m(\u001b[49m\u001b[43mfilepath_or_buffer\u001b[49m\u001b[43m,\u001b[49m\u001b[43m \u001b[49m\u001b[43mkwds\u001b[49m\u001b[43m)\u001b[49m\n",
      "\u001b[36mFile \u001b[39m\u001b[32mc:\\Users\\mlzengo\\Documents\\TJGO\\SPRINT IV\\.venv\\Lib\\site-packages\\pandas\\io\\parsers\\readers.py:620\u001b[39m, in \u001b[36m_read\u001b[39m\u001b[34m(filepath_or_buffer, kwds)\u001b[39m\n\u001b[32m    617\u001b[39m _validate_names(kwds.get(\u001b[33m\"\u001b[39m\u001b[33mnames\u001b[39m\u001b[33m\"\u001b[39m, \u001b[38;5;28;01mNone\u001b[39;00m))\n\u001b[32m    619\u001b[39m \u001b[38;5;66;03m# Create the parser.\u001b[39;00m\n\u001b[32m--> \u001b[39m\u001b[32m620\u001b[39m parser = \u001b[43mTextFileReader\u001b[49m\u001b[43m(\u001b[49m\u001b[43mfilepath_or_buffer\u001b[49m\u001b[43m,\u001b[49m\u001b[43m \u001b[49m\u001b[43m*\u001b[49m\u001b[43m*\u001b[49m\u001b[43mkwds\u001b[49m\u001b[43m)\u001b[49m\n\u001b[32m    622\u001b[39m \u001b[38;5;28;01mif\u001b[39;00m chunksize \u001b[38;5;129;01mor\u001b[39;00m iterator:\n\u001b[32m    623\u001b[39m     \u001b[38;5;28;01mreturn\u001b[39;00m parser\n",
      "\u001b[36mFile \u001b[39m\u001b[32mc:\\Users\\mlzengo\\Documents\\TJGO\\SPRINT IV\\.venv\\Lib\\site-packages\\pandas\\io\\parsers\\readers.py:1620\u001b[39m, in \u001b[36mTextFileReader.__init__\u001b[39m\u001b[34m(self, f, engine, **kwds)\u001b[39m\n\u001b[32m   1617\u001b[39m     \u001b[38;5;28mself\u001b[39m.options[\u001b[33m\"\u001b[39m\u001b[33mhas_index_names\u001b[39m\u001b[33m\"\u001b[39m] = kwds[\u001b[33m\"\u001b[39m\u001b[33mhas_index_names\u001b[39m\u001b[33m\"\u001b[39m]\n\u001b[32m   1619\u001b[39m \u001b[38;5;28mself\u001b[39m.handles: IOHandles | \u001b[38;5;28;01mNone\u001b[39;00m = \u001b[38;5;28;01mNone\u001b[39;00m\n\u001b[32m-> \u001b[39m\u001b[32m1620\u001b[39m \u001b[38;5;28mself\u001b[39m._engine = \u001b[38;5;28;43mself\u001b[39;49m\u001b[43m.\u001b[49m\u001b[43m_make_engine\u001b[49m\u001b[43m(\u001b[49m\u001b[43mf\u001b[49m\u001b[43m,\u001b[49m\u001b[43m \u001b[49m\u001b[38;5;28;43mself\u001b[39;49m\u001b[43m.\u001b[49m\u001b[43mengine\u001b[49m\u001b[43m)\u001b[49m\n",
      "\u001b[36mFile \u001b[39m\u001b[32mc:\\Users\\mlzengo\\Documents\\TJGO\\SPRINT IV\\.venv\\Lib\\site-packages\\pandas\\io\\parsers\\readers.py:1880\u001b[39m, in \u001b[36mTextFileReader._make_engine\u001b[39m\u001b[34m(self, f, engine)\u001b[39m\n\u001b[32m   1878\u001b[39m     \u001b[38;5;28;01mif\u001b[39;00m \u001b[33m\"\u001b[39m\u001b[33mb\u001b[39m\u001b[33m\"\u001b[39m \u001b[38;5;129;01mnot\u001b[39;00m \u001b[38;5;129;01min\u001b[39;00m mode:\n\u001b[32m   1879\u001b[39m         mode += \u001b[33m\"\u001b[39m\u001b[33mb\u001b[39m\u001b[33m\"\u001b[39m\n\u001b[32m-> \u001b[39m\u001b[32m1880\u001b[39m \u001b[38;5;28mself\u001b[39m.handles = \u001b[43mget_handle\u001b[49m\u001b[43m(\u001b[49m\n\u001b[32m   1881\u001b[39m \u001b[43m    \u001b[49m\u001b[43mf\u001b[49m\u001b[43m,\u001b[49m\n\u001b[32m   1882\u001b[39m \u001b[43m    \u001b[49m\u001b[43mmode\u001b[49m\u001b[43m,\u001b[49m\n\u001b[32m   1883\u001b[39m \u001b[43m    \u001b[49m\u001b[43mencoding\u001b[49m\u001b[43m=\u001b[49m\u001b[38;5;28;43mself\u001b[39;49m\u001b[43m.\u001b[49m\u001b[43moptions\u001b[49m\u001b[43m.\u001b[49m\u001b[43mget\u001b[49m\u001b[43m(\u001b[49m\u001b[33;43m\"\u001b[39;49m\u001b[33;43mencoding\u001b[39;49m\u001b[33;43m\"\u001b[39;49m\u001b[43m,\u001b[49m\u001b[43m \u001b[49m\u001b[38;5;28;43;01mNone\u001b[39;49;00m\u001b[43m)\u001b[49m\u001b[43m,\u001b[49m\n\u001b[32m   1884\u001b[39m \u001b[43m    \u001b[49m\u001b[43mcompression\u001b[49m\u001b[43m=\u001b[49m\u001b[38;5;28;43mself\u001b[39;49m\u001b[43m.\u001b[49m\u001b[43moptions\u001b[49m\u001b[43m.\u001b[49m\u001b[43mget\u001b[49m\u001b[43m(\u001b[49m\u001b[33;43m\"\u001b[39;49m\u001b[33;43mcompression\u001b[39;49m\u001b[33;43m\"\u001b[39;49m\u001b[43m,\u001b[49m\u001b[43m \u001b[49m\u001b[38;5;28;43;01mNone\u001b[39;49;00m\u001b[43m)\u001b[49m\u001b[43m,\u001b[49m\n\u001b[32m   1885\u001b[39m \u001b[43m    \u001b[49m\u001b[43mmemory_map\u001b[49m\u001b[43m=\u001b[49m\u001b[38;5;28;43mself\u001b[39;49m\u001b[43m.\u001b[49m\u001b[43moptions\u001b[49m\u001b[43m.\u001b[49m\u001b[43mget\u001b[49m\u001b[43m(\u001b[49m\u001b[33;43m\"\u001b[39;49m\u001b[33;43mmemory_map\u001b[39;49m\u001b[33;43m\"\u001b[39;49m\u001b[43m,\u001b[49m\u001b[43m \u001b[49m\u001b[38;5;28;43;01mFalse\u001b[39;49;00m\u001b[43m)\u001b[49m\u001b[43m,\u001b[49m\n\u001b[32m   1886\u001b[39m \u001b[43m    \u001b[49m\u001b[43mis_text\u001b[49m\u001b[43m=\u001b[49m\u001b[43mis_text\u001b[49m\u001b[43m,\u001b[49m\n\u001b[32m   1887\u001b[39m \u001b[43m    \u001b[49m\u001b[43merrors\u001b[49m\u001b[43m=\u001b[49m\u001b[38;5;28;43mself\u001b[39;49m\u001b[43m.\u001b[49m\u001b[43moptions\u001b[49m\u001b[43m.\u001b[49m\u001b[43mget\u001b[49m\u001b[43m(\u001b[49m\u001b[33;43m\"\u001b[39;49m\u001b[33;43mencoding_errors\u001b[39;49m\u001b[33;43m\"\u001b[39;49m\u001b[43m,\u001b[49m\u001b[43m \u001b[49m\u001b[33;43m\"\u001b[39;49m\u001b[33;43mstrict\u001b[39;49m\u001b[33;43m\"\u001b[39;49m\u001b[43m)\u001b[49m\u001b[43m,\u001b[49m\n\u001b[32m   1888\u001b[39m \u001b[43m    \u001b[49m\u001b[43mstorage_options\u001b[49m\u001b[43m=\u001b[49m\u001b[38;5;28;43mself\u001b[39;49m\u001b[43m.\u001b[49m\u001b[43moptions\u001b[49m\u001b[43m.\u001b[49m\u001b[43mget\u001b[49m\u001b[43m(\u001b[49m\u001b[33;43m\"\u001b[39;49m\u001b[33;43mstorage_options\u001b[39;49m\u001b[33;43m\"\u001b[39;49m\u001b[43m,\u001b[49m\u001b[43m \u001b[49m\u001b[38;5;28;43;01mNone\u001b[39;49;00m\u001b[43m)\u001b[49m\u001b[43m,\u001b[49m\n\u001b[32m   1889\u001b[39m \u001b[43m\u001b[49m\u001b[43m)\u001b[49m\n\u001b[32m   1890\u001b[39m \u001b[38;5;28;01massert\u001b[39;00m \u001b[38;5;28mself\u001b[39m.handles \u001b[38;5;129;01mis\u001b[39;00m \u001b[38;5;129;01mnot\u001b[39;00m \u001b[38;5;28;01mNone\u001b[39;00m\n\u001b[32m   1891\u001b[39m f = \u001b[38;5;28mself\u001b[39m.handles.handle\n",
      "\u001b[36mFile \u001b[39m\u001b[32mc:\\Users\\mlzengo\\Documents\\TJGO\\SPRINT IV\\.venv\\Lib\\site-packages\\pandas\\io\\common.py:873\u001b[39m, in \u001b[36mget_handle\u001b[39m\u001b[34m(path_or_buf, mode, encoding, compression, memory_map, is_text, errors, storage_options)\u001b[39m\n\u001b[32m    868\u001b[39m \u001b[38;5;28;01melif\u001b[39;00m \u001b[38;5;28misinstance\u001b[39m(handle, \u001b[38;5;28mstr\u001b[39m):\n\u001b[32m    869\u001b[39m     \u001b[38;5;66;03m# Check whether the filename is to be opened in binary mode.\u001b[39;00m\n\u001b[32m    870\u001b[39m     \u001b[38;5;66;03m# Binary mode does not support 'encoding' and 'newline'.\u001b[39;00m\n\u001b[32m    871\u001b[39m     \u001b[38;5;28;01mif\u001b[39;00m ioargs.encoding \u001b[38;5;129;01mand\u001b[39;00m \u001b[33m\"\u001b[39m\u001b[33mb\u001b[39m\u001b[33m\"\u001b[39m \u001b[38;5;129;01mnot\u001b[39;00m \u001b[38;5;129;01min\u001b[39;00m ioargs.mode:\n\u001b[32m    872\u001b[39m         \u001b[38;5;66;03m# Encoding\u001b[39;00m\n\u001b[32m--> \u001b[39m\u001b[32m873\u001b[39m         handle = \u001b[38;5;28;43mopen\u001b[39;49m\u001b[43m(\u001b[49m\n\u001b[32m    874\u001b[39m \u001b[43m            \u001b[49m\u001b[43mhandle\u001b[49m\u001b[43m,\u001b[49m\n\u001b[32m    875\u001b[39m \u001b[43m            \u001b[49m\u001b[43mioargs\u001b[49m\u001b[43m.\u001b[49m\u001b[43mmode\u001b[49m\u001b[43m,\u001b[49m\n\u001b[32m    876\u001b[39m \u001b[43m            \u001b[49m\u001b[43mencoding\u001b[49m\u001b[43m=\u001b[49m\u001b[43mioargs\u001b[49m\u001b[43m.\u001b[49m\u001b[43mencoding\u001b[49m\u001b[43m,\u001b[49m\n\u001b[32m    877\u001b[39m \u001b[43m            \u001b[49m\u001b[43merrors\u001b[49m\u001b[43m=\u001b[49m\u001b[43merrors\u001b[49m\u001b[43m,\u001b[49m\n\u001b[32m    878\u001b[39m \u001b[43m            \u001b[49m\u001b[43mnewline\u001b[49m\u001b[43m=\u001b[49m\u001b[33;43m\"\u001b[39;49m\u001b[33;43m\"\u001b[39;49m\u001b[43m,\u001b[49m\n\u001b[32m    879\u001b[39m \u001b[43m        \u001b[49m\u001b[43m)\u001b[49m\n\u001b[32m    880\u001b[39m     \u001b[38;5;28;01melse\u001b[39;00m:\n\u001b[32m    881\u001b[39m         \u001b[38;5;66;03m# Binary mode\u001b[39;00m\n\u001b[32m    882\u001b[39m         handle = \u001b[38;5;28mopen\u001b[39m(handle, ioargs.mode)\n",
      "\u001b[31mFileNotFoundError\u001b[39m: [Errno 2] No such file or directory: 'notas_tecnicas_goias.csv'"
     ]
    }
   ],
   "source": [
    "data_1 = pd.read_csv('web_natjus_consolidado.csv')\n",
    "\n",
    "\n",
    "data_2 = pd.read_csv('notas_tecnicas_goias.csv')"
   ]
  },
  {
   "cell_type": "code",
   "execution_count": null,
   "id": "c71b4275",
   "metadata": {},
   "outputs": [
    {
     "data": {
      "text/plain": [
       "Index(['Arquivo', 'ID', 'Data de Conclusão', 'Idade', 'Sexo', 'Cidade',\n",
       "       'Órgão', 'Serventia', 'CID', 'Diagnóstico', 'Tipo da Tecnologia',\n",
       "       'Princípio Ativo', 'Posologia', 'Descrição', 'Procedimento SUS',\n",
       "       'Evidências Científicas', 'Nome Comercial', 'Tecnologia Disponível',\n",
       "       'Custo da Tecnologia', 'Conclusão Justificada', 'Conclusão',\n",
       "       'NatJus Responsável', 'Instituição Responsável:'],\n",
       "      dtype='object')"
      ]
     },
     "execution_count": 4,
     "metadata": {},
     "output_type": "execute_result"
    }
   ],
   "source": [
    "data_1.columns"
   ]
  },
  {
   "cell_type": "code",
   "execution_count": null,
   "id": "7cf8cdbe",
   "metadata": {},
   "outputs": [
    {
     "data": {
      "text/plain": [
       "Index(['ID', 'Data', 'Tecnologia', 'CID', 'NatJus Responsável', 'Status',\n",
       "       'Link Visualização', 'Link Download'],\n",
       "      dtype='object')"
      ]
     },
     "execution_count": 5,
     "metadata": {},
     "output_type": "execute_result"
    }
   ],
   "source": [
    "data_2.columns"
   ]
  },
  {
   "cell_type": "code",
   "execution_count": null,
   "id": "da6e7cb2",
   "metadata": {},
   "outputs": [],
   "source": []
  },
  {
   "cell_type": "code",
   "execution_count": null,
   "id": "83dcbbe9",
   "metadata": {},
   "outputs": [
    {
     "data": {
      "text/html": [
       "<div>\n",
       "<style scoped>\n",
       "    .dataframe tbody tr th:only-of-type {\n",
       "        vertical-align: middle;\n",
       "    }\n",
       "\n",
       "    .dataframe tbody tr th {\n",
       "        vertical-align: top;\n",
       "    }\n",
       "\n",
       "    .dataframe thead th {\n",
       "        text-align: right;\n",
       "    }\n",
       "</style>\n",
       "<table border=\"1\" class=\"dataframe\">\n",
       "  <thead>\n",
       "    <tr style=\"text-align: right;\">\n",
       "      <th></th>\n",
       "      <th>Arquivo</th>\n",
       "      <th>ID</th>\n",
       "      <th>Data de Conclusão</th>\n",
       "      <th>Idade</th>\n",
       "      <th>Sexo</th>\n",
       "      <th>Cidade</th>\n",
       "      <th>Órgão</th>\n",
       "      <th>Serventia</th>\n",
       "      <th>CID</th>\n",
       "      <th>Diagnóstico</th>\n",
       "      <th>...</th>\n",
       "      <th>Evidências Científicas</th>\n",
       "      <th>Nome Comercial</th>\n",
       "      <th>Tecnologia Disponível</th>\n",
       "      <th>Custo da Tecnologia</th>\n",
       "      <th>Conclusão Justificada</th>\n",
       "      <th>Conclusão</th>\n",
       "      <th>NatJus Responsável</th>\n",
       "      <th>Instituição Responsável:</th>\n",
       "      <th>Link Visualização</th>\n",
       "      <th>Link Download</th>\n",
       "    </tr>\n",
       "  </thead>\n",
       "  <tbody>\n",
       "    <tr>\n",
       "      <th>0</th>\n",
       "      <td>104687.pdf</td>\n",
       "      <td>104687.0</td>\n",
       "      <td>10/11/2022 08:51:08</td>\n",
       "      <td>82.0</td>\n",
       "      <td>Feminino</td>\n",
       "      <td>Urutaí</td>\n",
       "      <td>Justiça Estadual</td>\n",
       "      <td>1ª Vara Cível - Pires do Rio</td>\n",
       "      <td>G30 - Doença de Alzheimer</td>\n",
       "      <td>Doença de Alzheimer; Fratura do fêmur (CID10 S...</td>\n",
       "      <td>...</td>\n",
       "      <td>Não</td>\n",
       "      <td>NaN</td>\n",
       "      <td>Procedimento</td>\n",
       "      <td>-</td>\n",
       "      <td>Favorável</td>\n",
       "      <td>1. Trata-se de demanda judicial envolvendo a r...</td>\n",
       "      <td>GO - Goiás</td>\n",
       "      <td>Tribunal de Justiça do Estado de Goiás (TJ/GO).</td>\n",
       "      <td>https://www.pje.jus.br/e-natjus/notaTecnica-da...</td>\n",
       "      <td>https://www.pje.jus.br/e-natjus/notaTecnica-da...</td>\n",
       "    </tr>\n",
       "    <tr>\n",
       "      <th>1</th>\n",
       "      <td>118160.pdf</td>\n",
       "      <td>118160.0</td>\n",
       "      <td>20/02/2023 09:01:09</td>\n",
       "      <td>12.0</td>\n",
       "      <td>Masculino</td>\n",
       "      <td>Goiânia</td>\n",
       "      <td>Justiça Estadual</td>\n",
       "      <td>Juizado da Infância e Juventude Cível - Goiânia</td>\n",
       "      <td>E34.3 - Nanismo, não classificado em outra parte</td>\n",
       "      <td>Baixa Estatura Idiopática.</td>\n",
       "      <td>...</td>\n",
       "      <td>Sim</td>\n",
       "      <td>HORMOTROP</td>\n",
       "      <td>Medicamento</td>\n",
       "      <td>NaN</td>\n",
       "      <td>Favorável</td>\n",
       "      <td>testes provocativos normais não afastam o diag...</td>\n",
       "      <td>GO - Goiás</td>\n",
       "      <td>Tribunal de Justiça do Estado de Goiás (TJ/GO).</td>\n",
       "      <td>https://www.pje.jus.br/e-natjus/notaTecnica-da...</td>\n",
       "      <td>https://www.pje.jus.br/e-natjus/notaTecnica-da...</td>\n",
       "    </tr>\n",
       "    <tr>\n",
       "      <th>2</th>\n",
       "      <td>64195.pdf</td>\n",
       "      <td>64195.0</td>\n",
       "      <td>15/02/2022 10:40:51</td>\n",
       "      <td>33.0</td>\n",
       "      <td>Feminino</td>\n",
       "      <td>Goiânia</td>\n",
       "      <td>Justiça Estadual</td>\n",
       "      <td>5ª Câmara Cível / TJ GO</td>\n",
       "      <td>M32.1 - Lúpus eritematoso disseminado [sistêmi...</td>\n",
       "      <td>LUPUS ERITEMATOSO SISTEMICO</td>\n",
       "      <td>...</td>\n",
       "      <td>Sim</td>\n",
       "      <td>BENLYSTA</td>\n",
       "      <td>Medicamento</td>\n",
       "      <td>NaN</td>\n",
       "      <td>Favorável</td>\n",
       "      <td>O tratamento farmacológico do lúpus eritematos...</td>\n",
       "      <td>GO - Goiás</td>\n",
       "      <td>TJ GO</td>\n",
       "      <td>https://www.pje.jus.br/e-natjus/notaTecnica-da...</td>\n",
       "      <td>https://www.pje.jus.br/e-natjus/notaTecnica-da...</td>\n",
       "    </tr>\n",
       "    <tr>\n",
       "      <th>3</th>\n",
       "      <td>89639.pdf</td>\n",
       "      <td>89639.0</td>\n",
       "      <td>11/08/2022 17:02:39</td>\n",
       "      <td>88.0</td>\n",
       "      <td>Masculino</td>\n",
       "      <td>Sertânia</td>\n",
       "      <td>Justiça Estadual</td>\n",
       "      <td>2ª Vara Cível - Rio Verde</td>\n",
       "      <td>G30 - Doença de Alzheimer</td>\n",
       "      <td>Doença de Alzheimer.</td>\n",
       "      <td>...</td>\n",
       "      <td>Não</td>\n",
       "      <td>NaN</td>\n",
       "      <td>Procedimento</td>\n",
       "      <td>-</td>\n",
       "      <td>Favorável</td>\n",
       "      <td>1. Trata-se de demanda judicial envolvendo o r...</td>\n",
       "      <td>GO - Goiás</td>\n",
       "      <td>Tribunal de Justiça do Estado de Goiás (TJ/GO).</td>\n",
       "      <td>https://www.pje.jus.br/e-natjus/notaTecnica-da...</td>\n",
       "      <td>https://www.pje.jus.br/e-natjus/notaTecnica-da...</td>\n",
       "    </tr>\n",
       "    <tr>\n",
       "      <th>4</th>\n",
       "      <td>96610.pdf</td>\n",
       "      <td>96610.0</td>\n",
       "      <td>22/09/2022 12:05:51</td>\n",
       "      <td>3.0</td>\n",
       "      <td>Masculino</td>\n",
       "      <td>Jussara</td>\n",
       "      <td>Justiça Estadual</td>\n",
       "      <td>Vara das Fazendas Públicas - Jussara</td>\n",
       "      <td>R63.8 - Outros sintomas e sinais relativos a i...</td>\n",
       "      <td>Proctocolite, APLV.</td>\n",
       "      <td>...</td>\n",
       "      <td>Não se aplica</td>\n",
       "      <td>NaN</td>\n",
       "      <td>Produto</td>\n",
       "      <td>1. Por se tratarem de fórmulas alimentares, as...</td>\n",
       "      <td>Favorável</td>\n",
       "      <td>1. A documentação médica apresentada, permite ...</td>\n",
       "      <td>GO - Goiás</td>\n",
       "      <td>Tribunal de Justiça do Estado de Goiás (TJ/GO).</td>\n",
       "      <td>https://www.pje.jus.br/e-natjus/notaTecnica-da...</td>\n",
       "      <td>https://www.pje.jus.br/e-natjus/notaTecnica-da...</td>\n",
       "    </tr>\n",
       "  </tbody>\n",
       "</table>\n",
       "<p>5 rows × 25 columns</p>\n",
       "</div>"
      ],
      "text/plain": [
       "      Arquivo        ID    Data de Conclusão  Idade       Sexo    Cidade  \\\n",
       "0  104687.pdf  104687.0  10/11/2022 08:51:08   82.0   Feminino    Urutaí   \n",
       "1  118160.pdf  118160.0  20/02/2023 09:01:09   12.0  Masculino   Goiânia   \n",
       "2   64195.pdf   64195.0  15/02/2022 10:40:51   33.0   Feminino   Goiânia   \n",
       "3   89639.pdf   89639.0  11/08/2022 17:02:39   88.0  Masculino  Sertânia   \n",
       "4   96610.pdf   96610.0  22/09/2022 12:05:51    3.0  Masculino   Jussara   \n",
       "\n",
       "              Órgão                                        Serventia  \\\n",
       "0  Justiça Estadual                     1ª Vara Cível - Pires do Rio   \n",
       "1  Justiça Estadual  Juizado da Infância e Juventude Cível - Goiânia   \n",
       "2  Justiça Estadual                          5ª Câmara Cível / TJ GO   \n",
       "3  Justiça Estadual                        2ª Vara Cível - Rio Verde   \n",
       "4  Justiça Estadual             Vara das Fazendas Públicas - Jussara   \n",
       "\n",
       "                                                 CID  \\\n",
       "0                          G30 - Doença de Alzheimer   \n",
       "1   E34.3 - Nanismo, não classificado em outra parte   \n",
       "2  M32.1 - Lúpus eritematoso disseminado [sistêmi...   \n",
       "3                          G30 - Doença de Alzheimer   \n",
       "4  R63.8 - Outros sintomas e sinais relativos a i...   \n",
       "\n",
       "                                         Diagnóstico  ...  \\\n",
       "0  Doença de Alzheimer; Fratura do fêmur (CID10 S...  ...   \n",
       "1                         Baixa Estatura Idiopática.  ...   \n",
       "2                        LUPUS ERITEMATOSO SISTEMICO  ...   \n",
       "3                               Doença de Alzheimer.  ...   \n",
       "4                                Proctocolite, APLV.  ...   \n",
       "\n",
       "  Evidências Científicas Nome Comercial Tecnologia Disponível  \\\n",
       "0                    Não            NaN          Procedimento   \n",
       "1                    Sim      HORMOTROP           Medicamento   \n",
       "2                    Sim       BENLYSTA           Medicamento   \n",
       "3                    Não            NaN          Procedimento   \n",
       "4          Não se aplica            NaN               Produto   \n",
       "\n",
       "                                 Custo da Tecnologia Conclusão Justificada  \\\n",
       "0                                                  -             Favorável   \n",
       "1                                                NaN             Favorável   \n",
       "2                                                NaN             Favorável   \n",
       "3                                                  -             Favorável   \n",
       "4  1. Por se tratarem de fórmulas alimentares, as...             Favorável   \n",
       "\n",
       "                                           Conclusão NatJus Responsável  \\\n",
       "0  1. Trata-se de demanda judicial envolvendo a r...         GO - Goiás   \n",
       "1  testes provocativos normais não afastam o diag...         GO - Goiás   \n",
       "2  O tratamento farmacológico do lúpus eritematos...         GO - Goiás   \n",
       "3  1. Trata-se de demanda judicial envolvendo o r...         GO - Goiás   \n",
       "4  1. A documentação médica apresentada, permite ...         GO - Goiás   \n",
       "\n",
       "                          Instituição Responsável:  \\\n",
       "0  Tribunal de Justiça do Estado de Goiás (TJ/GO).   \n",
       "1  Tribunal de Justiça do Estado de Goiás (TJ/GO).   \n",
       "2                                            TJ GO   \n",
       "3  Tribunal de Justiça do Estado de Goiás (TJ/GO).   \n",
       "4  Tribunal de Justiça do Estado de Goiás (TJ/GO).   \n",
       "\n",
       "                                   Link Visualização  \\\n",
       "0  https://www.pje.jus.br/e-natjus/notaTecnica-da...   \n",
       "1  https://www.pje.jus.br/e-natjus/notaTecnica-da...   \n",
       "2  https://www.pje.jus.br/e-natjus/notaTecnica-da...   \n",
       "3  https://www.pje.jus.br/e-natjus/notaTecnica-da...   \n",
       "4  https://www.pje.jus.br/e-natjus/notaTecnica-da...   \n",
       "\n",
       "                                       Link Download  \n",
       "0  https://www.pje.jus.br/e-natjus/notaTecnica-da...  \n",
       "1  https://www.pje.jus.br/e-natjus/notaTecnica-da...  \n",
       "2  https://www.pje.jus.br/e-natjus/notaTecnica-da...  \n",
       "3  https://www.pje.jus.br/e-natjus/notaTecnica-da...  \n",
       "4  https://www.pje.jus.br/e-natjus/notaTecnica-da...  \n",
       "\n",
       "[5 rows x 25 columns]"
      ]
     },
     "execution_count": 6,
     "metadata": {},
     "output_type": "execute_result"
    }
   ],
   "source": [
    "# Realizar o merge entre data_1 e data_2 com base na chave 'ID'\n",
    "dsc = pd.merge(data_1, data_2[['ID', 'Link Visualização', 'Link Download']], on='ID', how='inner')\n",
    "\n",
    "# Exibir o resultado\n",
    "dsc.head()"
   ]
  },
  {
   "cell_type": "code",
   "execution_count": null,
   "id": "2b5615ba",
   "metadata": {},
   "outputs": [
    {
     "name": "stdout",
     "output_type": "stream",
     "text": [
      "Linhas em data_1: 1712\n",
      "Linhas em data_2: 1712\n",
      "Linhas em merged_data: 1708\n",
      "Valores nulos na coluna 'ID' em merged_data: 0\n"
     ]
    }
   ],
   "source": [
    "# Verificar o número de linhas antes e depois do merge\n",
    "print(f\"Linhas em data_1: {len(data_1)}\")\n",
    "print(f\"Linhas em data_2: {len(data_2)}\")\n",
    "print(f\"Linhas em merged_data: {len(dsc)}\")\n",
    "\n",
    "# Verificar se há valores nulos na coluna de chave após o merge\n",
    "print(f\"Valores nulos na coluna 'ID' em merged_data: {dsc['ID'].isnull().sum()}\")"
   ]
  },
  {
   "cell_type": "code",
   "execution_count": null,
   "id": "590928a0",
   "metadata": {},
   "outputs": [],
   "source": [
    "# Converter todas as colunas numéricas para inteiro\n",
    "data_1 = data_1.apply(lambda col: col.astype('Int64') if col.dtype == 'float64' else col)\n",
    "data_2 = data_2.apply(lambda col: col.astype('Int64') if col.dtype == 'float64' else col)\n",
    "dsc = dsc.apply(lambda col: col.astype('Int64') if col.dtype == 'float64' else col)\n",
    "\n",
    "# Remover a coluna 'Arquivo'\n",
    "data_1 = data_1.drop(columns=['Arquivo'])\n",
    "dsc = dsc.drop(columns=['Arquivo'])"
   ]
  },
  {
   "cell_type": "code",
   "execution_count": null,
   "id": "02b9c694",
   "metadata": {},
   "outputs": [
    {
     "data": {
      "text/plain": [
       "Index(['ID', 'Data de Conclusão', 'Idade', 'Sexo', 'Cidade', 'Órgão',\n",
       "       'Serventia', 'CID', 'Diagnóstico', 'Tipo da Tecnologia',\n",
       "       'Princípio Ativo', 'Posologia', 'Descrição', 'Procedimento SUS',\n",
       "       'Evidências Científicas', 'Nome Comercial', 'Tecnologia Disponível',\n",
       "       'Custo da Tecnologia', 'Conclusão Justificada', 'Conclusão',\n",
       "       'NatJus Responsável', 'Instituição Responsável:', 'Link Visualização',\n",
       "       'Link Download'],\n",
       "      dtype='object')"
      ]
     },
     "execution_count": 9,
     "metadata": {},
     "output_type": "execute_result"
    }
   ],
   "source": [
    "dsc.columns"
   ]
  },
  {
   "cell_type": "code",
   "execution_count": null,
   "id": "0de2b49a",
   "metadata": {},
   "outputs": [
    {
     "data": {
      "text/html": [
       "<div>\n",
       "<style scoped>\n",
       "    .dataframe tbody tr th:only-of-type {\n",
       "        vertical-align: middle;\n",
       "    }\n",
       "\n",
       "    .dataframe tbody tr th {\n",
       "        vertical-align: top;\n",
       "    }\n",
       "\n",
       "    .dataframe thead th {\n",
       "        text-align: right;\n",
       "    }\n",
       "</style>\n",
       "<table border=\"1\" class=\"dataframe\">\n",
       "  <thead>\n",
       "    <tr style=\"text-align: right;\">\n",
       "      <th></th>\n",
       "      <th>Data de Conclusão</th>\n",
       "      <th>Mes</th>\n",
       "    </tr>\n",
       "  </thead>\n",
       "  <tbody>\n",
       "    <tr>\n",
       "      <th>0</th>\n",
       "      <td>2022-11-10</td>\n",
       "      <td>November</td>\n",
       "    </tr>\n",
       "    <tr>\n",
       "      <th>1</th>\n",
       "      <td>2023-02-20</td>\n",
       "      <td>February</td>\n",
       "    </tr>\n",
       "    <tr>\n",
       "      <th>2</th>\n",
       "      <td>2022-02-15</td>\n",
       "      <td>February</td>\n",
       "    </tr>\n",
       "    <tr>\n",
       "      <th>3</th>\n",
       "      <td>2022-08-11</td>\n",
       "      <td>August</td>\n",
       "    </tr>\n",
       "    <tr>\n",
       "      <th>4</th>\n",
       "      <td>2022-09-22</td>\n",
       "      <td>September</td>\n",
       "    </tr>\n",
       "  </tbody>\n",
       "</table>\n",
       "</div>"
      ],
      "text/plain": [
       "  Data de Conclusão        Mes\n",
       "0        2022-11-10   November\n",
       "1        2023-02-20   February\n",
       "2        2022-02-15   February\n",
       "3        2022-08-11     August\n",
       "4        2022-09-22  September"
      ]
     },
     "execution_count": 10,
     "metadata": {},
     "output_type": "execute_result"
    }
   ],
   "source": [
    "# Converter a coluna para datetime com o formato correto (dd/mm/yyyy)\n",
    "dsc['Data de Conclusão'] = pd.to_datetime(dsc['Data de Conclusão'], format='%d/%m/%Y %H:%M:%S')\n",
    "\n",
    "# Remover as horas, mantendo apenas a data\n",
    "dsc['Data de Conclusão'] = dsc['Data de Conclusão'].dt.date\n",
    "\n",
    "# Extrair o mês\n",
    "dsc['Mes'] = pd.to_datetime(dsc['Data de Conclusão']).dt.strftime('%B')\n",
    "\n",
    "# Exibir resultado\n",
    "dsc[['Data de Conclusão', 'Mes']].head()"
   ]
  },
  {
   "cell_type": "code",
   "execution_count": null,
   "id": "ccea530d",
   "metadata": {},
   "outputs": [],
   "source": [
    "# Dataset filtrado por produto\n",
    "dsc.to_csv('DATASET.csv', index=False, encoding='utf-8-sig')"
   ]
  },
  {
   "cell_type": "code",
   "execution_count": 45,
   "id": "cf0b04d0",
   "metadata": {},
   "outputs": [
    {
     "name": "stdout",
     "output_type": "stream",
     "text": [
      "       ID Data de Conclusão  Idade       Sexo    Cidade             Órgão  \\\n",
      "0  104687        2022-11-10     82   Feminino    Urutaí  Justiça Estadual   \n",
      "1  118160        2023-02-20     12  Masculino   Goiânia  Justiça Estadual   \n",
      "2   64195        2022-02-15     33   Feminino   Goiânia  Justiça Estadual   \n",
      "3   89639        2022-08-11     88  Masculino  Sertânia  Justiça Estadual   \n",
      "4   96610        2022-09-22      3  Masculino   Jussara  Justiça Estadual   \n",
      "\n",
      "                                         Serventia  \\\n",
      "0                     1ª Vara Cível - Pires do Rio   \n",
      "1  Juizado da Infância e Juventude Cível - Goiânia   \n",
      "2                          5ª Câmara Cível / TJ GO   \n",
      "3                        2ª Vara Cível - Rio Verde   \n",
      "4             Vara das Fazendas Públicas - Jussara   \n",
      "\n",
      "                                                 CID  \\\n",
      "0                          G30 - Doença de Alzheimer   \n",
      "1   E34.3 - Nanismo, não classificado em outra parte   \n",
      "2  M32.1 - Lúpus eritematoso disseminado [sistêmi...   \n",
      "3                          G30 - Doença de Alzheimer   \n",
      "4  R63.8 - Outros sintomas e sinais relativos a i...   \n",
      "\n",
      "                                         Diagnóstico Tipo da Tecnologia  ...  \\\n",
      "0  Doença de Alzheimer; Fratura do fêmur (CID10 S...       Procedimento  ...   \n",
      "1                         Baixa Estatura Idiopática.        Medicamento  ...   \n",
      "2                        LUPUS ERITEMATOSO SISTEMICO        Medicamento  ...   \n",
      "3                               Doença de Alzheimer.       Procedimento  ...   \n",
      "4                                Proctocolite, APLV.            Produto  ...   \n",
      "\n",
      "  Nome Comercial Tecnologia Disponível  \\\n",
      "0            NaN          Procedimento   \n",
      "1      HORMOTROP           Medicamento   \n",
      "2       BENLYSTA           Medicamento   \n",
      "3            NaN          Procedimento   \n",
      "4            NaN               Produto   \n",
      "\n",
      "                                 Custo da Tecnologia Conclusão Justificada  \\\n",
      "0                                                  -             Favorável   \n",
      "1                                                NaN             Favorável   \n",
      "2                                                NaN             Favorável   \n",
      "3                                                  -             Favorável   \n",
      "4  1. Por se tratarem de fórmulas alimentares, as...             Favorável   \n",
      "\n",
      "                                           Conclusão NatJus Responsável  \\\n",
      "0  1. Trata-se de demanda judicial envolvendo a r...         GO - Goiás   \n",
      "1  testes provocativos normais não afastam o diag...         GO - Goiás   \n",
      "2  O tratamento farmacológico do lúpus eritematos...         GO - Goiás   \n",
      "3  1. Trata-se de demanda judicial envolvendo o r...         GO - Goiás   \n",
      "4  1. A documentação médica apresentada, permite ...         GO - Goiás   \n",
      "\n",
      "                          Instituição Responsável:  \\\n",
      "0  Tribunal de Justiça do Estado de Goiás (TJ/GO).   \n",
      "1  Tribunal de Justiça do Estado de Goiás (TJ/GO).   \n",
      "2                                            TJ GO   \n",
      "3  Tribunal de Justiça do Estado de Goiás (TJ/GO).   \n",
      "4  Tribunal de Justiça do Estado de Goiás (TJ/GO).   \n",
      "\n",
      "                                   Link Visualização  \\\n",
      "0  https://www.pje.jus.br/e-natjus/notaTecnica-da...   \n",
      "1  https://www.pje.jus.br/e-natjus/notaTecnica-da...   \n",
      "2  https://www.pje.jus.br/e-natjus/notaTecnica-da...   \n",
      "3  https://www.pje.jus.br/e-natjus/notaTecnica-da...   \n",
      "4  https://www.pje.jus.br/e-natjus/notaTecnica-da...   \n",
      "\n",
      "                                       Link Download        Mes  \n",
      "0  https://www.pje.jus.br/e-natjus/notaTecnica-da...   novembro  \n",
      "1  https://www.pje.jus.br/e-natjus/notaTecnica-da...  fevereiro  \n",
      "2  https://www.pje.jus.br/e-natjus/notaTecnica-da...  fevereiro  \n",
      "3  https://www.pje.jus.br/e-natjus/notaTecnica-da...     agosto  \n",
      "4  https://www.pje.jus.br/e-natjus/notaTecnica-da...   setembro  \n",
      "\n",
      "[5 rows x 25 columns]\n"
     ]
    }
   ],
   "source": [
    "dataset = pd.read_csv('./data/processed/DATASET FINAL.csv')\n",
    "\n",
    "print(dataset.head())\n"
   ]
  },
  {
   "cell_type": "code",
   "execution_count": 46,
   "id": "4a6e48d4",
   "metadata": {},
   "outputs": [],
   "source": [
    "# Remover duplicidades\n",
    "dataset.drop_duplicates(subset=['ID', 'Link Download'], keep='first', inplace=True)\n",
    "\n",
    "# Normalização de Colunas\n",
    "dataset.columns = dataset.columns.str.strip()\n",
    "dataset.columns = dataset.columns.str.lower()\n",
    "dataset['cidade'] = dataset['cidade'].str.lower().str.strip()\n",
    "dataset['sexo'] = dataset['sexo'].str.lower().str.strip()\n",
    "\n",
    "# Tratamento de Dados Nulos\n",
    "dataset.fillna(\"Não Informado\", inplace=True)\n",
    "\n",
    "# Conversão de Tipos\n",
    "dataset['data de conclusão'] = pd.to_datetime(dataset['data de conclusão'], errors='coerce')\n",
    "dataset['custo da tecnologia'] = pd.to_numeric(dataset['custo da tecnologia'], errors='coerce')"
   ]
  },
  {
   "cell_type": "code",
   "execution_count": 47,
   "id": "71cc0611",
   "metadata": {},
   "outputs": [
    {
     "name": "stdout",
     "output_type": "stream",
     "text": [
      "✅ Dataset tratado e salvo como 'DATASET_FINAL_TRATADO.csv'\n"
     ]
    }
   ],
   "source": [
    "\n",
    "# 6️⃣ Salvar o dataset tratado\n",
    "dataset.to_csv('DATASET_FINAL_TRATADO.csv', index=False)\n",
    "print(\"✅ Dataset tratado e salvo como 'DATASET_FINAL_TRATADO.csv'\")\n"
   ]
  },
  {
   "cell_type": "code",
   "execution_count": 9,
   "id": "04dabff4",
   "metadata": {},
   "outputs": [],
   "source": [
    "# Carregar o dataset tratado\n",
    "dataset = pd.read_csv(r'C:\\Users\\mlzengo\\Documents\\TJGO\\SPRINT IV\\data\\processed\\DATASET_FINAL_TRATADO.csv')"
   ]
  },
  {
   "cell_type": "code",
   "execution_count": 10,
   "id": "d8c83a53",
   "metadata": {},
   "outputs": [
    {
     "name": "stdout",
     "output_type": "stream",
     "text": [
      "✅ Embeddings gerados e salvos com sucesso!\n"
     ]
    }
   ],
   "source": [
    "# Instanciar o modelo pré-treinado para embeddings\n",
    "model = SentenceTransformer('all-mpnet-base-v2')\n",
    "\n",
    "# ✅ Função para gerar embeddings\n",
    "def gerar_embedding(texto):\n",
    "    return model.encode(texto)\n",
    "\n",
    "# 🔄 Preparar os textos para gerar embeddings\n",
    "embeddings = []\n",
    "referencias = []\n",
    "\n",
    "for index, row in dataset.iterrows():\n",
    "    bloco = f\"\"\"\n",
    "    Diagnóstico: {row['diagnóstico']}.\n",
    "    Conclusão: {row['conclusão']}.\n",
    "    Justificativa: {row['conclusão justificada']}.\n",
    "    CID: {row['cid']}.\n",
    "    Princípio Ativo: {row['princípio ativo']}.\n",
    "    Nome Comercial: {row['nome comercial']}.\n",
    "    Tipo da Tecnologia: {row['tipo da tecnologia']}.\n",
    "    Órgão: {row['órgão']}.\n",
    "    Serventia: {row['serventia']}.\n",
    "    \"\"\"\n",
    "    embedding = gerar_embedding(bloco)\n",
    "    embeddings.append(embedding)\n",
    "    referencias.append(row['link visualização'])\n",
    "\n",
    "# ✅ Salvar os embeddings e referências\n",
    "with open('embeddings.pkl', 'wb') as f:\n",
    "    pickle.dump((embeddings, referencias), f)\n",
    "\n",
    "print(\"✅ Embeddings gerados e salvos com sucesso!\")"
   ]
  },
  {
   "cell_type": "code",
   "execution_count": 53,
   "id": "8b658c10",
   "metadata": {},
   "outputs": [
    {
     "data": {
      "text/plain": [
       "Index(['id', 'data de conclusão', 'idade', 'sexo', 'cidade', 'órgão',\n",
       "       'serventia', 'cid', 'diagnóstico', 'tipo da tecnologia',\n",
       "       'princípio ativo', 'posologia', 'descrição', 'procedimento sus',\n",
       "       'evidências científicas', 'nome comercial', 'tecnologia disponível',\n",
       "       'custo da tecnologia', 'conclusão justificada', 'conclusão',\n",
       "       'natjus responsável', 'instituição responsável:', 'link visualização',\n",
       "       'link download', 'mes', 'texto'],\n",
       "      dtype='object')"
      ]
     },
     "execution_count": 53,
     "metadata": {},
     "output_type": "execute_result"
    }
   ],
   "source": [
    "datase = pd.read_csv('./data/processed/DATASET_FINAL_EMBEDDINGS.csv')\n",
    "\n",
    "datase.columns"
   ]
  }
 ],
 "metadata": {
  "kernelspec": {
   "display_name": ".venv",
   "language": "python",
   "name": "python3"
  },
  "language_info": {
   "codemirror_mode": {
    "name": "ipython",
    "version": 3
   },
   "file_extension": ".py",
   "mimetype": "text/x-python",
   "name": "python",
   "nbconvert_exporter": "python",
   "pygments_lexer": "ipython3",
   "version": "3.12.7"
  }
 },
 "nbformat": 4,
 "nbformat_minor": 5
}
